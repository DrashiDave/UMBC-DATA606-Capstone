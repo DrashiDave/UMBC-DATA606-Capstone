{
 "cells": [
  {
   "cell_type": "markdown",
   "id": "8c124a6f-3f22-4431-87ec-90516cd8a5a5",
   "metadata": {},
   "source": [
    "# UMBC DATA606 Capstone – Flight Delay Prediction Proposal\n",
    "\n",
    "**Project Title:** Predicting U.S. Flight Delays and Delay Duration  \n",
    "**Prepared for:** UMBC Data Science Master Degree Capstone by Dr. Chaojie (Jay) Wang  \n",
    "**Author:** Drashi Dave  \n",
    "**GitHub Repository:** [https://github.com/DrashiDave/UMBC-DATA606-Capstone/Data/Airline_Delay_Cause.csv](https://github.com/DrashiDave/UMBC-DATA606-Capstone/Data/Airline_Delay_Cause.csv)  \n",
    "**LinkedIn Profile:** [linkedin.com/in/drashi-d](https://www.linkedin.com/in/drashi-d)  \n",
    "<!--**PowerPoint Presentation:** *TBD* -->\n",
    "<!-- **YouTube Video:** *TBD* -->"
   ]
  },
  {
   "cell_type": "markdown",
   "id": "65e51f2b-8141-4d66-b743-3081f6f1ce11",
   "metadata": {},
   "source": [
    "## Background\n",
    "\n",
    "Flight delays are a common issue affecting passengers, airlines, and the broader air transportation system. They increase operational costs, reduce passenger satisfaction, and cause cascading disruptions across connecting flights. The U.S. Bureau of Transportation Statistics (BTS) collects detailed information on flight operations, including arrival delays and their causes.\n",
    "\n",
    "**Project Objective:**  \n",
    "This project aims to predict whether a flight will be delayed (classification) and, if delayed, estimate the length of the delay in minutes (regression).\n",
    "\n",
    "**Why it Matters:**  \n",
    "Accurate predictions of flight delays help:  \n",
    "- Passengers plan their travel more efficiently  \n",
    "- Airlines optimize schedules, staffing, and resource allocation  \n",
    "- Airports and air traffic controllers manage congestion  \n",
    "\n",
    "**Research Questions:**  \n",
    "1. Can we predict whether a flight will be delayed by more than 15 minutes?  \n",
    "2. If a flight is delayed, can we predict the expected delay duration in minutes?  \n",
    "3. Which factors (airline, airport, time of year, weather, etc.) contribute most to delays?  \n"
   ]
  },
  {
   "cell_type": "code",
   "execution_count": 52,
   "id": "474a248f-047e-41ad-94c7-3bf783f59538",
   "metadata": {},
   "outputs": [],
   "source": [
    "import pandas as pd"
   ]
  },
  {
   "cell_type": "markdown",
   "id": "1046eca4-9922-4e10-84ac-24e0c4f25752",
   "metadata": {},
   "source": [
    "**Data Source:**  \n",
    "- U.S. Bureau of Transportation Statistics - On-Time Performance Dataset (Open-source, publicly available)  \n",
    "- Official government dataset: [https://www.transtats.bts.gov/](https://www.transtats.bts.gov/)\n",
    "- Local Copy (for convenience): Available in this GitHub repository  \n",
    "  [https://github.com/DrashiDave/UMBC-DATA606-Capstone/tree/main/data/Airline_Delay_Cause.csv](https://github.com/DrashiDave/UMBC-DATA606-Capstone/tree/main/data/Airline_Delay_Cause.csv)\n"
   ]
  },
  {
   "cell_type": "code",
   "execution_count": 10,
   "id": "ca2b63a4-3399-4825-92a0-84a7fd04ba5f",
   "metadata": {},
   "outputs": [],
   "source": [
    "# Load dataset \n",
    "file_path = \"Airline_Delay_Cause.csv\"   \n",
    "df = pd.read_csv(file_path)"
   ]
  },
  {
   "cell_type": "code",
   "execution_count": 12,
   "id": "3e0bbfec-edd3-431c-81a4-2af40f2193be",
   "metadata": {},
   "outputs": [
    {
     "name": "stdout",
     "output_type": "stream",
     "text": [
      "Preview of dataset:\n"
     ]
    },
    {
     "data": {
      "text/html": [
       "<div>\n",
       "<style scoped>\n",
       "    .dataframe tbody tr th:only-of-type {\n",
       "        vertical-align: middle;\n",
       "    }\n",
       "\n",
       "    .dataframe tbody tr th {\n",
       "        vertical-align: top;\n",
       "    }\n",
       "\n",
       "    .dataframe thead th {\n",
       "        text-align: right;\n",
       "    }\n",
       "</style>\n",
       "<table border=\"1\" class=\"dataframe\">\n",
       "  <thead>\n",
       "    <tr style=\"text-align: right;\">\n",
       "      <th></th>\n",
       "      <th>year</th>\n",
       "      <th>month</th>\n",
       "      <th>carrier</th>\n",
       "      <th>carrier_name</th>\n",
       "      <th>airport</th>\n",
       "      <th>airport_name</th>\n",
       "      <th>arr_flights</th>\n",
       "      <th>arr_del15</th>\n",
       "      <th>carrier_ct</th>\n",
       "      <th>weather_ct</th>\n",
       "      <th>...</th>\n",
       "      <th>security_ct</th>\n",
       "      <th>late_aircraft_ct</th>\n",
       "      <th>arr_cancelled</th>\n",
       "      <th>arr_diverted</th>\n",
       "      <th>arr_delay</th>\n",
       "      <th>carrier_delay</th>\n",
       "      <th>weather_delay</th>\n",
       "      <th>nas_delay</th>\n",
       "      <th>security_delay</th>\n",
       "      <th>late_aircraft_delay</th>\n",
       "    </tr>\n",
       "  </thead>\n",
       "  <tbody>\n",
       "    <tr>\n",
       "      <th>0</th>\n",
       "      <td>2025</td>\n",
       "      <td>5</td>\n",
       "      <td>9E</td>\n",
       "      <td>Endeavor Air Inc.</td>\n",
       "      <td>ABE</td>\n",
       "      <td>Allentown/Bethlehem/Easton, PA: Lehigh Valley ...</td>\n",
       "      <td>92.0</td>\n",
       "      <td>17.0</td>\n",
       "      <td>4.80</td>\n",
       "      <td>1.24</td>\n",
       "      <td>...</td>\n",
       "      <td>0.0</td>\n",
       "      <td>6.67</td>\n",
       "      <td>4.0</td>\n",
       "      <td>2.0</td>\n",
       "      <td>1834.0</td>\n",
       "      <td>517.0</td>\n",
       "      <td>555.0</td>\n",
       "      <td>283.0</td>\n",
       "      <td>0.0</td>\n",
       "      <td>479.0</td>\n",
       "    </tr>\n",
       "    <tr>\n",
       "      <th>1</th>\n",
       "      <td>2025</td>\n",
       "      <td>5</td>\n",
       "      <td>9E</td>\n",
       "      <td>Endeavor Air Inc.</td>\n",
       "      <td>AEX</td>\n",
       "      <td>Alexandria, LA: Alexandria International</td>\n",
       "      <td>92.0</td>\n",
       "      <td>24.0</td>\n",
       "      <td>10.74</td>\n",
       "      <td>3.65</td>\n",
       "      <td>...</td>\n",
       "      <td>0.0</td>\n",
       "      <td>5.03</td>\n",
       "      <td>2.0</td>\n",
       "      <td>1.0</td>\n",
       "      <td>2080.0</td>\n",
       "      <td>615.0</td>\n",
       "      <td>917.0</td>\n",
       "      <td>186.0</td>\n",
       "      <td>0.0</td>\n",
       "      <td>362.0</td>\n",
       "    </tr>\n",
       "    <tr>\n",
       "      <th>2</th>\n",
       "      <td>2025</td>\n",
       "      <td>5</td>\n",
       "      <td>9E</td>\n",
       "      <td>Endeavor Air Inc.</td>\n",
       "      <td>AGS</td>\n",
       "      <td>Augusta, GA: Augusta Regional at Bush Field</td>\n",
       "      <td>188.0</td>\n",
       "      <td>52.0</td>\n",
       "      <td>17.87</td>\n",
       "      <td>1.49</td>\n",
       "      <td>...</td>\n",
       "      <td>0.0</td>\n",
       "      <td>19.67</td>\n",
       "      <td>4.0</td>\n",
       "      <td>1.0</td>\n",
       "      <td>4132.0</td>\n",
       "      <td>956.0</td>\n",
       "      <td>538.0</td>\n",
       "      <td>898.0</td>\n",
       "      <td>0.0</td>\n",
       "      <td>1740.0</td>\n",
       "    </tr>\n",
       "    <tr>\n",
       "      <th>3</th>\n",
       "      <td>2025</td>\n",
       "      <td>5</td>\n",
       "      <td>9E</td>\n",
       "      <td>Endeavor Air Inc.</td>\n",
       "      <td>ALB</td>\n",
       "      <td>Albany, NY: Albany International</td>\n",
       "      <td>83.0</td>\n",
       "      <td>26.0</td>\n",
       "      <td>6.01</td>\n",
       "      <td>0.00</td>\n",
       "      <td>...</td>\n",
       "      <td>0.0</td>\n",
       "      <td>17.11</td>\n",
       "      <td>4.0</td>\n",
       "      <td>0.0</td>\n",
       "      <td>1975.0</td>\n",
       "      <td>857.0</td>\n",
       "      <td>0.0</td>\n",
       "      <td>83.0</td>\n",
       "      <td>0.0</td>\n",
       "      <td>1035.0</td>\n",
       "    </tr>\n",
       "    <tr>\n",
       "      <th>4</th>\n",
       "      <td>2025</td>\n",
       "      <td>5</td>\n",
       "      <td>9E</td>\n",
       "      <td>Endeavor Air Inc.</td>\n",
       "      <td>ATL</td>\n",
       "      <td>Atlanta, GA: Hartsfield-Jackson Atlanta Intern...</td>\n",
       "      <td>3118.0</td>\n",
       "      <td>785.0</td>\n",
       "      <td>146.76</td>\n",
       "      <td>26.61</td>\n",
       "      <td>...</td>\n",
       "      <td>0.0</td>\n",
       "      <td>411.36</td>\n",
       "      <td>43.0</td>\n",
       "      <td>8.0</td>\n",
       "      <td>67705.0</td>\n",
       "      <td>19313.0</td>\n",
       "      <td>3384.0</td>\n",
       "      <td>10047.0</td>\n",
       "      <td>0.0</td>\n",
       "      <td>34961.0</td>\n",
       "    </tr>\n",
       "  </tbody>\n",
       "</table>\n",
       "<p>5 rows × 21 columns</p>\n",
       "</div>"
      ],
      "text/plain": [
       "   year  month carrier       carrier_name airport  \\\n",
       "0  2025      5      9E  Endeavor Air Inc.     ABE   \n",
       "1  2025      5      9E  Endeavor Air Inc.     AEX   \n",
       "2  2025      5      9E  Endeavor Air Inc.     AGS   \n",
       "3  2025      5      9E  Endeavor Air Inc.     ALB   \n",
       "4  2025      5      9E  Endeavor Air Inc.     ATL   \n",
       "\n",
       "                                        airport_name  arr_flights  arr_del15  \\\n",
       "0  Allentown/Bethlehem/Easton, PA: Lehigh Valley ...         92.0       17.0   \n",
       "1           Alexandria, LA: Alexandria International         92.0       24.0   \n",
       "2        Augusta, GA: Augusta Regional at Bush Field        188.0       52.0   \n",
       "3                   Albany, NY: Albany International         83.0       26.0   \n",
       "4  Atlanta, GA: Hartsfield-Jackson Atlanta Intern...       3118.0      785.0   \n",
       "\n",
       "   carrier_ct  weather_ct  ...  security_ct  late_aircraft_ct  arr_cancelled  \\\n",
       "0        4.80        1.24  ...          0.0              6.67            4.0   \n",
       "1       10.74        3.65  ...          0.0              5.03            2.0   \n",
       "2       17.87        1.49  ...          0.0             19.67            4.0   \n",
       "3        6.01        0.00  ...          0.0             17.11            4.0   \n",
       "4      146.76       26.61  ...          0.0            411.36           43.0   \n",
       "\n",
       "   arr_diverted  arr_delay  carrier_delay  weather_delay  nas_delay  \\\n",
       "0           2.0     1834.0          517.0          555.0      283.0   \n",
       "1           1.0     2080.0          615.0          917.0      186.0   \n",
       "2           1.0     4132.0          956.0          538.0      898.0   \n",
       "3           0.0     1975.0          857.0            0.0       83.0   \n",
       "4           8.0    67705.0        19313.0         3384.0    10047.0   \n",
       "\n",
       "   security_delay  late_aircraft_delay  \n",
       "0             0.0                479.0  \n",
       "1             0.0                362.0  \n",
       "2             0.0               1740.0  \n",
       "3             0.0               1035.0  \n",
       "4             0.0              34961.0  \n",
       "\n",
       "[5 rows x 21 columns]"
      ]
     },
     "metadata": {},
     "output_type": "display_data"
    }
   ],
   "source": [
    "# Display first few rows\n",
    "print(\"Preview of dataset:\")\n",
    "display(df.head())"
   ]
  },
  {
   "cell_type": "markdown",
   "id": "ce7f266a-56c7-4f71-98e1-07bf3c1adc4f",
   "metadata": {},
   "source": [
    "**Each row represents aggregated statistics for one airline at one airport during one month, including flight counts, delays, and causes of delays.**"
   ]
  },
  {
   "cell_type": "code",
   "execution_count": 14,
   "id": "770962a7-7f04-4130-839e-157a31430760",
   "metadata": {},
   "outputs": [
    {
     "name": "stdout",
     "output_type": "stream",
     "text": [
      "\n",
      "Dataset shape (rows, columns): (100447, 21)\n"
     ]
    }
   ],
   "source": [
    "# Shape of the dataset\n",
    "print(\"\\nDataset shape (rows, columns):\", df.shape)"
   ]
  },
  {
   "cell_type": "markdown",
   "id": "eb801fbf-26cf-4725-882e-5f9fc894e75a",
   "metadata": {},
   "source": [
    "**Data Size:**  \n",
    "- One year of data (example: 2025) ~ several hundred MB  \n",
    "- ~100447 rows and 21 columns   "
   ]
  },
  {
   "cell_type": "code",
   "execution_count": 16,
   "id": "9d4f5815-726f-4e0d-8f23-accf55814172",
   "metadata": {},
   "outputs": [
    {
     "name": "stdout",
     "output_type": "stream",
     "text": [
      "\n",
      "Column Data Types:\n",
      "year                     int64\n",
      "month                    int64\n",
      "carrier                 object\n",
      "carrier_name            object\n",
      "airport                 object\n",
      "airport_name            object\n",
      "arr_flights            float64\n",
      "arr_del15              float64\n",
      "carrier_ct             float64\n",
      "weather_ct             float64\n",
      "nas_ct                 float64\n",
      "security_ct            float64\n",
      "late_aircraft_ct       float64\n",
      "arr_cancelled          float64\n",
      "arr_diverted           float64\n",
      "arr_delay              float64\n",
      "carrier_delay          float64\n",
      "weather_delay          float64\n",
      "nas_delay              float64\n",
      "security_delay         float64\n",
      "late_aircraft_delay    float64\n",
      "dtype: object\n"
     ]
    }
   ],
   "source": [
    "# Column information\n",
    "print(\"\\nColumn Data Types:\")\n",
    "print(df.dtypes)"
   ]
  },
  {
   "cell_type": "markdown",
   "id": "57bf9e41-fe7a-4c71-82a4-051b6b3f21a6",
   "metadata": {},
   "source": [
    "### Data Information\n",
    "\n",
    "| Column Name           | Data Type | Definition                                                                                     | Example Values |\n",
    "|-----------------------|-----------|-------------------------------------------------------------------------------------------------|----------------|\n",
    "| year                  | int       | Year in YYYY format                                                                             | 2025           |\n",
    "| month                 | int       | Month in MM format (1-12)                                                                      | 5              |\n",
    "| carrier               | object    | Code assigned by US DOT to identify a unique airline carrier                                     | 9E             |\n",
    "| carrier_name          | object    | Unique airline holding and reporting under the same DOT certificate                              | Endeavor Air Inc. |\n",
    "| airport               | object    | Three-character airport code issued by US DOT                                                   | ABE            |\n",
    "| airport_name          | object    | Full name of airport including location                                                         | Allentown/Bethlehem/Easton, PA: Lehigh Valley Intl |\n",
    "| arr_flights           | float     | Total number of arriving flights                                                               | 92.0           |\n",
    "| arr_del15             | float     | Arrival Delay Indicator ≥ 15 min. Difference between actual and scheduled arrival time         | 17.0           |\n",
    "| carrier_ct            | float     | Number of delays caused by the airline                                                         | 4.8            |\n",
    "| weather_ct            | float     | Number of delays caused by weather                                                             | 1.24           |\n",
    "| nas_ct                | float     | Number of delays caused by National Air System                                                 | 4.29           |\n",
    "| security_ct           | float     | Number of delays caused by security                                                            | 0.0            |\n",
    "| late_aircraft_ct      | float     | Number of delays caused by late aircraft                                                       | 6.67           |\n",
    "| arr_cancelled         | float     | Number of cancelled flights                                                                    | 4.0            |\n",
    "| arr_diverted          | float     | Number of diverted flights                                                                     | 2.0            |\n",
    "| arr_delay             | float     | Difference in minutes between scheduled and actual arrival time. Early arrivals show negative. | 1834.0         |\n",
    "| carrier_delay         | float     | Average delay time caused by carrier (minutes)                                                 | 517.0          |\n",
    "| weather_delay         | float     | Average delay time caused by weather (minutes)                                                 | 555.0          |\n",
    "| nas_delay             | float     | Average delay time caused by NAS (minutes)                                                     | 283.0         |\n",
    "| security_delay        | float     | Average delay time caused by security (minutes)                                                | 0.0            |\n",
    "| late_aircraft_delay   | float     | Average delay time caused by late aircraft (minutes)                                           | 479.0          |\n",
    "\n",
    "**Each row represents aggregated statistics for one airline at one airport during one month, including flight counts, delays, and causes of delays.**"
   ]
  },
  {
   "cell_type": "code",
   "execution_count": 69,
   "id": "ff281627-4e35-460d-aeba-09e2b4ca7e6f",
   "metadata": {},
   "outputs": [
    {
     "name": "stdout",
     "output_type": "stream",
     "text": [
      "Start Date: 2021-01\n",
      "End Date: 2025-05\n"
     ]
    }
   ],
   "source": [
    "# Let's find out the start and end dates from dataset\n",
    "start_year = df['year'].min()\n",
    "start_month = df[df['year'] == start_year]['month'].min()\n",
    "\n",
    "end_year = df['year'].max()\n",
    "end_month = df[df['year'] == end_year]['month'].max()\n",
    "\n",
    "print(f\"Start Date: {start_year}-{start_month:02d}\")\n",
    "print(f\"End Date: {end_year}-{end_month:02d}\")"
   ]
  },
  {
   "cell_type": "markdown",
   "id": "33951b3f-441a-4f35-995d-95bf92081ad0",
   "metadata": {},
   "source": [
    "**The Dataset is ranged from the year 2021 to 2025**  \n",
    "- Start Date: January 2021  \n",
    "- End Date: Latest available month in 2025  "
   ]
  },
  {
   "cell_type": "code",
   "execution_count": 28,
   "id": "814a27d6-6738-4369-965f-53f518ef3026",
   "metadata": {},
   "outputs": [
    {
     "name": "stdout",
     "output_type": "stream",
     "text": [
      "carrier_name: 23 unique values\n",
      "airport: 385 unique values\n"
     ]
    }
   ],
   "source": [
    "categorical_cols = ['carrier_name', 'airport']\n",
    "for col in categorical_cols:\n",
    "    print(f\"{col}: {df[col].nunique()} unique values\")"
   ]
  },
  {
   "cell_type": "markdown",
   "id": "26cf0fc1-aac4-472d-9bda-55f65150549c",
   "metadata": {},
   "source": [
    "## Here are the Target Variables and Feature Candidates\n",
    "\n",
    "**Classification:** `Delayed` – 1 if `arr_delay > 15`, else 0.  \n",
    "> **Note:** The U.S. Bureau of Transportation Statistics defines a flight as “delayed” if it arrives 15 minutes or more after the scheduled time. This threshold is the standard in aviation and ensures your model aligns with real-world definitions.\n",
    "\n",
    "**Regression:** `arr_delay` – continuous delay time in minutes.\n",
    "\n",
    "**Feature Candidates:** These features capture the airline, airport, time, flight volume, and causes of delays, which will help the model predict whether a flight will be delayed and estimate the delay duration.\n",
    "\n",
    "- Airline (`carrier_name`)\n",
    "- Airport (`airport`)\n",
    "- Time (`year`, `month`)\n",
    "- Flight counts (`arr_flights`)\n",
    "- Cause counts (`carrier_ct`, `weather_ct`, `nas_ct`, `security_ct`, `late_aircraft_ct`)\n",
    "- Cancellation/diversion counts (`arr_cancelled`, `arr_diverted`)\n",
    "\n",
    "> **Explanation:** These features will allow the model to predict both whether a flight is delayed and the expected delay duration.\n",
    "\n"
   ]
  },
  {
   "cell_type": "code",
   "execution_count": null,
   "id": "d416d023-0a6f-4514-9fd5-f2b17e49f002",
   "metadata": {},
   "outputs": [],
   "source": []
  }
 ],
 "metadata": {
  "kernelspec": {
   "display_name": "Python [conda env:base] *",
   "language": "python",
   "name": "conda-base-py"
  },
  "language_info": {
   "codemirror_mode": {
    "name": "ipython",
    "version": 3
   },
   "file_extension": ".py",
   "mimetype": "text/x-python",
   "name": "python",
   "nbconvert_exporter": "python",
   "pygments_lexer": "ipython3",
   "version": "3.12.2"
  }
 },
 "nbformat": 4,
 "nbformat_minor": 5
}
